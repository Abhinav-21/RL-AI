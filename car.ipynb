{
 "cells": [
  {
   "attachments": {},
   "cell_type": "markdown",
   "metadata": {},
   "source": [
    "<h1 align='center' style='color:cyan'><b> CAR-RACING-v2 </b></h1>"
   ]
  },
  {
   "attachments": {},
   "cell_type": "markdown",
   "metadata": {},
   "source": [
    "<h3><b>IMPORTING DEPENDENCIES</b></h3>"
   ]
  },
  {
   "cell_type": "code",
   "execution_count": 41,
   "metadata": {},
   "outputs": [],
   "source": [
    "import os\n",
    "import gym\n",
    "from stable_baselines3 import PPO\n",
    "from stable_baselines3.common.vec_env import DummyVecEnv\n",
    "from stable_baselines3.common.vec_env import SubprocVecEnv\n",
    "from stable_baselines3.common.evaluation import evaluate_policy\n",
    "from gym.wrappers import GrayScaleObservation\n",
    "import warnings\n",
    "\n",
    "warnings.filterwarnings(\"ignore\")"
   ]
  },
  {
   "attachments": {},
   "cell_type": "markdown",
   "metadata": {},
   "source": [
    "<h3><b>CREATING ENVIRONMENT</b></h3>"
   ]
  },
  {
   "cell_type": "code",
   "execution_count": 42,
   "metadata": {},
   "outputs": [],
   "source": [
    "environment_name = \"CarRacing-v2\"\n",
    "log_path = os.path.join(\"Training\", \"Logs\")\n",
    "\n",
    "# Create the environment\n",
    "\n",
    "env = gym.make(environment_name, domain_randomize=True, render_mode='human')\n",
    "env = GrayScaleObservation(env, keep_dim=True)\n",
    "num_envs = 4  \n",
    "env = SubprocVecEnv([lambda: gym.make(environment_name, domain_randomize=True) for _ in range(num_envs)])"
   ]
  },
  {
   "attachments": {},
   "cell_type": "markdown",
   "metadata": {},
   "source": [
    "<h3><b>CREATING PPO MODEL, TRAINING IT AND SAVING IT</b></h3>"
   ]
  },
  {
   "cell_type": "code",
   "execution_count": null,
   "metadata": {},
   "outputs": [],
   "source": [
    "# Create the PPO model\n",
    "model = PPO('MlpPolicy', env, verbose=1, tensorboard_log=log_path)\n",
    "\n",
    "# Train the model\n",
    "model.learn(total_timesteps=30000)\n",
    "\n",
    "# Save the trained model\n",
    "PPO_path = os.path.join(\"Training\", \"Saved_Models\", \"PPO_Model_CarRace\")\n",
    "model.save(PPO_path)"
   ]
  },
  {
   "attachments": {},
   "cell_type": "markdown",
   "metadata": {},
   "source": [
    "<h3><b>LOADING TRAINED MODEL, FOR FURTHER TRAINING</b></h3>"
   ]
  },
  {
   "cell_type": "code",
   "execution_count": null,
   "metadata": {},
   "outputs": [],
   "source": [
    "PPO_path = os.path.join(\"Training\", \"Saved_Models\", \"PPO_Model_CarRace\")\n",
    "# Load model\n",
    "model = PPO.load(PPO_path, env=env)\n",
    "\n",
    "# Train the model\n",
    "model.learn(total_timesteps=20000, progress_bar=True)\n",
    "\n",
    "# Save the trained model\n",
    "model.save(PPO_path)"
   ]
  },
  {
   "attachments": {},
   "cell_type": "markdown",
   "metadata": {},
   "source": [
    "<h3><b>TESTING THE TRAINED MODEL</b></h3>"
   ]
  },
  {
   "cell_type": "code",
   "execution_count": null,
   "metadata": {},
   "outputs": [],
   "source": [
    "# Load the saved model\n",
    "PPO_path = os.path.join(\"Training\", \"Saved_Models\", \"PPO_Model_CarRace\")\n",
    "model = PPO.load(PPO_path, env=env)\n",
    "\n",
    "# Create a new environment for evaluation\n",
    "env = gym.make(environment_name, render_mode='human')\n",
    "env = env = GrayScaleObservation(env, keep_dim=True)\n",
    "num_envs = 1\n",
    "env = SubprocVecEnv([lambda: gym.make(environment_name, domain_randomize=True) for _ in range(num_envs)])\n",
    "\n",
    "obs = env.reset()\n",
    "done = False\n",
    "score = 0 \n",
    "\n",
    "while not done:\n",
    "    env.render()\n",
    "    action, _ = model.predict(obs)\n",
    "    obs, reward, done, info = env.step(action)\n",
    "    score += reward\n",
    "    \n",
    "print(f'Score:{score}')\n",
    "\n",
    "env.close()"
   ]
  },
  {
   "attachments": {},
   "cell_type": "markdown",
   "metadata": {},
   "source": [
    "<h3><b>TESTING THE HEAVILY TRAINED MODEL</b></h3>"
   ]
  },
  {
   "cell_type": "code",
   "execution_count": null,
   "metadata": {},
   "outputs": [],
   "source": [
    "environment_name = \"CarRacing-v2\"\n",
    "log_path = os.path.join(\"Training\", \"Logs\")\n",
    "env = gym.make(environment_name,  render_mode='human')\n",
    "env = DummyVecEnv([lambda: env])\n",
    "\n",
    "# Load the saved model\n",
    "PPO_path = os.path.join(\"Training\", \"Saved_Models\", \"PPO_CarRace_Trained\")\n",
    "model = PPO.load(PPO_path, env=env)\n",
    "\n",
    "obs = env.reset()\n",
    "done = False\n",
    "score = 0 \n",
    "\n",
    "while not done:\n",
    "    env.render()\n",
    "    action, _ = model.predict(obs)\n",
    "    obs, reward, done, info = env.step(action)\n",
    "    score += reward\n",
    "    \n",
    "print(f'Score:{score}')\n",
    "\n",
    "env.close()"
   ]
  }
 ],
 "metadata": {
  "kernelspec": {
   "display_name": "Python 3",
   "language": "python",
   "name": "python3"
  },
  "language_info": {
   "codemirror_mode": {
    "name": "ipython",
    "version": 3
   },
   "file_extension": ".py",
   "mimetype": "text/x-python",
   "name": "python",
   "nbconvert_exporter": "python",
   "pygments_lexer": "ipython3",
   "version": "3.8.10"
  },
  "orig_nbformat": 4
 },
 "nbformat": 4,
 "nbformat_minor": 2
}
